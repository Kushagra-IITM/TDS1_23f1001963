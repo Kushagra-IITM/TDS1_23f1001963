{
  "nbformat": 4,
  "nbformat_minor": 0,
  "metadata": {
    "colab": {
      "provenance": []
    },
    "kernelspec": {
      "name": "python3",
      "display_name": "Python 3"
    },
    "language_info": {
      "name": "python"
    }
  },
  "cells": [
    {
      "cell_type": "code",
      "source": [
        "import requests\n",
        "import csv\n",
        "import time\n",
        "\n",
        "# Function to fetch users in Seattle with over 200 followers\n",
        "def fetch_users(page=1, per_page=100):\n",
        "    url = f'https://api.github.com/search/users?q=location:Seattle+followers:>200&page={page}&per_page={per_page}'\n",
        "    headers = {'Authorization': 'token DUMMY'}\n",
        "    response = requests.get(url, headers=headers)\n",
        "    response_data = response.json()\n",
        "    if response.status_code != 200:\n",
        "        print(f\"Error: {response_data.get('message', 'Unknown error')}\")\n",
        "    return response_data.get('items', [])\n",
        "\n",
        "# Function to fetch user details\n",
        "def fetch_user_details(username):\n",
        "    url = f'https://api.github.com/users/{username}'\n",
        "    headers = {'Authorization': 'token DUMMY'}\n",
        "    response = requests.get(url, headers=headers)\n",
        "    if response.status_code != 200:\n",
        "        print(f\"Error fetching details for {username}: {response.json().get('message', 'Unknown error')}\")\n",
        "    return response.json()\n",
        "\n",
        "# Function to clean up company names\n",
        "def clean_company_name(company):\n",
        "    if company:\n",
        "        company = company.strip().replace('@', '').upper()\n",
        "    return company or ''\n",
        "\n",
        "\n",
        "# Function to create CSV file\n",
        "def create_csv(users):\n",
        "    with open('users.csv', 'w', newline='') as file:\n",
        "        writer = csv.writer(file)\n",
        "        writer.writerow(['Login', 'Name', 'Company', 'Location', 'Email', 'Hireable', 'Bio', 'Public Repos', 'Followers', 'Following', 'Created At'])\n",
        "        for user in users:\n",
        "            details = fetch_user_details(user['login'])\n",
        "            writer.writerow([details['login'], details.get('name', ''), clean_company_name(details.get('company', '')),\n",
        "                             details.get('location', ''), details.get('email', ''), details.get('hireable', ''),\n",
        "                             details.get('bio', ''), details['public_repos'], details['followers'], details['following'], details['created_at']])\n",
        "\n",
        "# Function to get all users across multiple pages\n",
        "def get_all_users():\n",
        "    users = []\n",
        "    page = 1\n",
        "    while True:\n",
        "        current_users = fetch_users(page=page)\n",
        "        if not current_users:\n",
        "            break\n",
        "        users.extend(current_users)\n",
        "        print(f\"Fetched {len(current_users)} users on page {page}\")\n",
        "        page += 1\n",
        "        time.sleep(1)  # To avoid hitting rate limits\n",
        "    return users\n",
        "\n",
        "# Fetch all users and create CSV\n",
        "all_users = get_all_users()\n",
        "print(f\"Total users fetched: {len(all_users)}\")\n",
        "create_csv(all_users)\n"
      ],
      "metadata": {
        "colab": {
          "base_uri": "https://localhost:8080/"
        },
        "id": "KUuqK6HRW_vT",
        "outputId": "6411ff95-20ab-4418-b0cf-57d016682717"
      },
      "execution_count": null,
      "outputs": [
        {
          "output_type": "stream",
          "name": "stdout",
          "text": [
            "Fetched 100 users on page 1\n",
            "Fetched 100 users on page 2\n",
            "Fetched 100 users on page 3\n",
            "Fetched 100 users on page 4\n",
            "Fetched 100 users on page 5\n",
            "Fetched 18 users on page 6\n",
            "Total users fetched: 518\n"
          ]
        }
      ]
    },
    {
      "cell_type": "code",
      "source": [
        "# Function to fetch upto 500 recent repos\n",
        "def fetch_repositories(username):\n",
        "    url = f'https://api.github.com/users/{username}/repos?per_page=500'\n",
        "    headers = {'Authorization': 'token DUMMY'}\n",
        "    response = requests.get(url, headers=headers)\n",
        "    return response.json()\n",
        "\n",
        "\n",
        "# Function to create repositories CSV file\n",
        "def create_repositories_csv(users):\n",
        "    with open('/content/repositories.csv', 'w', newline='') as file:\n",
        "        writer = csv.writer(file)\n",
        "        writer.writerow(['Login', 'Full Name', 'Created At', 'Stargazers Count', 'Watchers Count', 'Language', 'Has Projects', 'Has Wiki', 'License Name'])\n",
        "        for user in users:\n",
        "            repos = fetch_repositories(user['login'])\n",
        "            count = 0\n",
        "            for repo in repos:\n",
        "                if count >= 500:\n",
        "                    break\n",
        "                license_name = repo['license']['key'] if repo['license'] else ''\n",
        "                writer.writerow([user['login'], repo['full_name'], repo['created_at'], repo['stargazers_count'], repo['watchers_count'],\n",
        "                                 repo['language'], repo['has_projects'], repo['has_wiki'], license_name])\n",
        "                count += 1\n",
        "\n",
        "create_repositories_csv(all_users)"
      ],
      "metadata": {
        "id": "5Fqt7MjcuV7z"
      },
      "execution_count": null,
      "outputs": []
    },
    {
      "cell_type": "code",
      "source": [
        "import pandas as pd\n",
        "df = pd.read_csv(\"/content/repositories.csv\")"
      ],
      "metadata": {
        "id": "6PcsFatdydIO"
      },
      "execution_count": null,
      "outputs": []
    },
    {
      "cell_type": "code",
      "source": [
        "# Most popular programming language\n",
        "language_counts = df['Language'].value_counts()\n",
        "print(language_counts)"
      ],
      "metadata": {
        "colab": {
          "base_uri": "https://localhost:8080/"
        },
        "id": "mLZXREtZykmE",
        "outputId": "cbfaba89-96c2-4db5-9e39-85fb10203480"
      },
      "execution_count": null,
      "outputs": [
        {
          "output_type": "stream",
          "name": "stdout",
          "text": [
            "Language\n",
            "JavaScript            4752\n",
            "Python                3485\n",
            "Ruby                  1434\n",
            "HTML                  1342\n",
            "C#                    1330\n",
            "                      ... \n",
            "Forth                    1\n",
            "mIRC Script              1\n",
            "Ragel in Ruby Host       1\n",
            "sed                      1\n",
            "AutoIt                   1\n",
            "Name: count, Length: 179, dtype: int64\n"
          ]
        }
      ]
    },
    {
      "cell_type": "code",
      "source": [
        "#the 3 most popular license among these users\n",
        "language_counts = df['license_name'].value_counts()\n",
        "print(language_counts)"
      ],
      "metadata": {
        "colab": {
          "base_uri": "https://localhost:8080/"
        },
        "id": "mhNvsQFX7OsH",
        "outputId": "bec1e186-9f04-40f0-a4e3-bf805b279d89"
      },
      "execution_count": null,
      "outputs": [
        {
          "output_type": "stream",
          "name": "stdout",
          "text": [
            "license_name\n",
            "mit                   8668\n",
            "apache-2.0            3994\n",
            "other                 3202\n",
            "bsd-3-clause           822\n",
            "gpl-3.0                618\n",
            "gpl-2.0                267\n",
            "bsd-2-clause           253\n",
            "cc-by-4.0              164\n",
            "cc0-1.0                162\n",
            "unlicense              104\n",
            "isc                     93\n",
            "agpl-3.0                92\n",
            "epl-1.0                 82\n",
            "mpl-2.0                 82\n",
            "upl-1.0                 66\n",
            "mit-0                   65\n",
            "lgpl-3.0                53\n",
            "lgpl-2.1                39\n",
            "cc-by-sa-4.0            31\n",
            "ofl-1.1                 29\n",
            "wtfpl                   18\n",
            "bsl-1.0                 14\n",
            "zlib                     8\n",
            "epl-2.0                  7\n",
            "0bsd                     6\n",
            "ms-pl                    4\n",
            "bsd-4-clause             3\n",
            "artistic-2.0             2\n",
            "osl-3.0                  2\n",
            "vim                      2\n",
            "ncsa                     2\n",
            "bsd-3-clause-clear       1\n",
            "Name: count, dtype: int64\n"
          ]
        }
      ]
    },
    {
      "cell_type": "code",
      "source": [
        "# languages after 2020\n",
        "df['created_at'] = pd.to_datetime(df['created_at'])\n",
        "filtered_df = df[df['created_at'] >= '2021-01-01']"
      ],
      "metadata": {
        "id": "D-BsiJe48C_N"
      },
      "execution_count": null,
      "outputs": []
    },
    {
      "cell_type": "code",
      "source": [
        "language_counts = filtered_df ['language'].value_counts()\n",
        "print(language_counts)"
      ],
      "metadata": {
        "colab": {
          "base_uri": "https://localhost:8080/"
        },
        "id": "IBbmTNs-8JEn",
        "outputId": "bda43550-6ab0-4697-c0e7-2458466772b9"
      },
      "execution_count": null,
      "outputs": [
        {
          "output_type": "stream",
          "name": "stdout",
          "text": [
            "language\n",
            "Python        842\n",
            "JavaScript    717\n",
            "TypeScript    663\n",
            "C#            359\n",
            "HTML          317\n",
            "             ... \n",
            "Stylus          1\n",
            "Less            1\n",
            "Max             1\n",
            "Elixir          1\n",
            "BASIC           1\n",
            "Name: count, Length: 108, dtype: int64\n"
          ]
        }
      ]
    },
    {
      "cell_type": "code",
      "source": [
        "# Find the language with the highest average stars\n",
        "# Group by language and calculate the average stargazers count\n",
        "average_stars_per_language = df.groupby('language')['stargazers_count'].mean()\n",
        "max_avg_stars_language = average_stars_per_language.idxmax()\n",
        "max_avg_stars_value = average_stars_per_language.max()\n",
        "\n",
        "print(f\"Language with the highest average stars: {max_avg_stars_language}, Average Stars: {max_avg_stars_value:.2f}\")"
      ],
      "metadata": {
        "colab": {
          "base_uri": "https://localhost:8080/"
        },
        "id": "xBcIKvee9erI",
        "outputId": "9b8b9fc8-c8bf-4568-d93f-59a6a80663b8"
      },
      "execution_count": null,
      "outputs": [
        {
          "output_type": "stream",
          "name": "stdout",
          "text": [
            "Language with the highest average stars: Vim script, Average Stars: 372.60\n"
          ]
        }
      ]
    },
    {
      "cell_type": "code",
      "source": [
        "# Correlation between projects and wiki enabled\n",
        "df1 = pd.read_csv(\"/content/users.csv\")\n",
        "correlation = df['has_wiki'].corr(df['has_projects'])\n",
        "print(correlation)"
      ],
      "metadata": {
        "colab": {
          "base_uri": "https://localhost:8080/"
        },
        "id": "nKNnPF81_v-f",
        "outputId": "faee3da2-b3a3-4e01-daa4-28262f898647"
      },
      "execution_count": null,
      "outputs": [
        {
          "output_type": "stream",
          "name": "stdout",
          "text": [
            "0.31944858724553993\n"
          ]
        }
      ]
    },
    {
      "cell_type": "code",
      "source": [
        "#Correlation between followers and repos\n",
        "import scipy.stats as stats\n",
        "x = df1['public_repos']\n",
        "y = df1['followers']\n",
        "\n",
        "slope, intercept, r_value, p_value, std_err = stats.linregress(x, y)\n",
        "print(f\"Regression slope: {slope}\")"
      ],
      "metadata": {
        "colab": {
          "base_uri": "https://localhost:8080/"
        },
        "id": "bSIx_pnCANrx",
        "outputId": "65b1e9c4-6902-4d55-d2aa-cd1fe98c3476"
      },
      "execution_count": null,
      "outputs": [
        {
          "output_type": "stream",
          "name": "stdout",
          "text": [
            "Regression slope: 2.4282595517416175\n"
          ]
        }
      ]
    },
    {
      "cell_type": "code",
      "source": [
        "# Average of following per user for hireable=true minus the average following for the rest\n",
        "avg_following_hireable = df1[df1['hireable'] == True]\n",
        "\n",
        "avg_following_non_hireable = df1[df1['hireable'] != True]['following'].mean()\n",
        "\n",
        "diff_avg_following = avg_following_hireable - avg_following_non_hireable\n",
        "\n",
        "print(f\"Difference in average following: {diff_avg_following}\")"
      ],
      "metadata": {
        "id": "w0cancb7BbFg"
      },
      "execution_count": null,
      "outputs": []
    },
    {
      "cell_type": "code",
      "source": [
        "avg_following_hireable.head()"
      ],
      "metadata": {
        "colab": {
          "base_uri": "https://localhost:8080/",
          "height": 449
        },
        "id": "obV7AwtpBoP1",
        "outputId": "44ed324c-c73f-4a1f-8ac5-7f49a9736c2b"
      },
      "execution_count": null,
      "outputs": [
        {
          "output_type": "execute_result",
          "data": {
            "text/plain": [
              "         login              name  \\\n",
              "4       ahmetb  Ahmet Alp Balkan   \n",
              "8   TheLarkInn       Sean Larkin   \n",
              "20     schollz              Zack   \n",
              "22   aidenybai         Aiden Bai   \n",
              "25  hyperb1iss     Stefanie Jane   \n",
              "\n",
              "                                              company            location  \\\n",
              "4                                            LINKEDIN         Seattle, WA   \n",
              "8   MICROSOFT MICROSOFTEDGE WEBPACK WEBPACK-CONTRI...         Seattle, WA   \n",
              "20                                                NaN         Seattle, WA   \n",
              "22                                                NaN  portland ↝ seattle   \n",
              "25                                              MASON         Seattle, WA   \n",
              "\n",
              "                     email hireable  \\\n",
              "4          github@ahmet.im     True   \n",
              "8   selarkin@microsoft.com     True   \n",
              "20   zack.scholl@gmail.com     True   \n",
              "22                     NaN     True   \n",
              "25                     NaN     True   \n",
              "\n",
              "                                                  bio  public_repos  \\\n",
              "4   Working on compute orchestration with Kubernet...           221   \n",
              "8   Software Engineer @microsoft. Javascript, webp...           265   \n",
              "20                      Software Engineer + Scientist          1078   \n",
              "22                  on the search for capybaras ʕ•ᴥ•ʔ           149   \n",
              "25                        Light, Sound, and Android 🌠            27   \n",
              "\n",
              "    followers  following            created_at surname  bio_word_count  \n",
              "4        8212         34  2009-11-28T14:59:59Z  Balkan               9  \n",
              "8        6404         71  2013-01-28T17:11:47Z  Larkin              19  \n",
              "20       3077        200  2014-01-31T01:31:11Z    Zack               4  \n",
              "22       2739         32  2018-04-03T03:08:03Z     Bai               6  \n",
              "25       2587         61  2009-07-06T14:26:47Z    Jane               5  "
            ],
            "text/html": [
              "\n",
              "  <div id=\"df-501a4819-08e9-4a22-bb1f-98c810d45601\" class=\"colab-df-container\">\n",
              "    <div>\n",
              "<style scoped>\n",
              "    .dataframe tbody tr th:only-of-type {\n",
              "        vertical-align: middle;\n",
              "    }\n",
              "\n",
              "    .dataframe tbody tr th {\n",
              "        vertical-align: top;\n",
              "    }\n",
              "\n",
              "    .dataframe thead th {\n",
              "        text-align: right;\n",
              "    }\n",
              "</style>\n",
              "<table border=\"1\" class=\"dataframe\">\n",
              "  <thead>\n",
              "    <tr style=\"text-align: right;\">\n",
              "      <th></th>\n",
              "      <th>login</th>\n",
              "      <th>name</th>\n",
              "      <th>company</th>\n",
              "      <th>location</th>\n",
              "      <th>email</th>\n",
              "      <th>hireable</th>\n",
              "      <th>bio</th>\n",
              "      <th>public_repos</th>\n",
              "      <th>followers</th>\n",
              "      <th>following</th>\n",
              "      <th>created_at</th>\n",
              "      <th>surname</th>\n",
              "      <th>bio_word_count</th>\n",
              "    </tr>\n",
              "  </thead>\n",
              "  <tbody>\n",
              "    <tr>\n",
              "      <th>4</th>\n",
              "      <td>ahmetb</td>\n",
              "      <td>Ahmet Alp Balkan</td>\n",
              "      <td>LINKEDIN</td>\n",
              "      <td>Seattle, WA</td>\n",
              "      <td>github@ahmet.im</td>\n",
              "      <td>True</td>\n",
              "      <td>Working on compute orchestration with Kubernet...</td>\n",
              "      <td>221</td>\n",
              "      <td>8212</td>\n",
              "      <td>34</td>\n",
              "      <td>2009-11-28T14:59:59Z</td>\n",
              "      <td>Balkan</td>\n",
              "      <td>9</td>\n",
              "    </tr>\n",
              "    <tr>\n",
              "      <th>8</th>\n",
              "      <td>TheLarkInn</td>\n",
              "      <td>Sean Larkin</td>\n",
              "      <td>MICROSOFT MICROSOFTEDGE WEBPACK WEBPACK-CONTRI...</td>\n",
              "      <td>Seattle, WA</td>\n",
              "      <td>selarkin@microsoft.com</td>\n",
              "      <td>True</td>\n",
              "      <td>Software Engineer @microsoft. Javascript, webp...</td>\n",
              "      <td>265</td>\n",
              "      <td>6404</td>\n",
              "      <td>71</td>\n",
              "      <td>2013-01-28T17:11:47Z</td>\n",
              "      <td>Larkin</td>\n",
              "      <td>19</td>\n",
              "    </tr>\n",
              "    <tr>\n",
              "      <th>20</th>\n",
              "      <td>schollz</td>\n",
              "      <td>Zack</td>\n",
              "      <td>NaN</td>\n",
              "      <td>Seattle, WA</td>\n",
              "      <td>zack.scholl@gmail.com</td>\n",
              "      <td>True</td>\n",
              "      <td>Software Engineer + Scientist</td>\n",
              "      <td>1078</td>\n",
              "      <td>3077</td>\n",
              "      <td>200</td>\n",
              "      <td>2014-01-31T01:31:11Z</td>\n",
              "      <td>Zack</td>\n",
              "      <td>4</td>\n",
              "    </tr>\n",
              "    <tr>\n",
              "      <th>22</th>\n",
              "      <td>aidenybai</td>\n",
              "      <td>Aiden Bai</td>\n",
              "      <td>NaN</td>\n",
              "      <td>portland ↝ seattle</td>\n",
              "      <td>NaN</td>\n",
              "      <td>True</td>\n",
              "      <td>on the search for capybaras ʕ•ᴥ•ʔ</td>\n",
              "      <td>149</td>\n",
              "      <td>2739</td>\n",
              "      <td>32</td>\n",
              "      <td>2018-04-03T03:08:03Z</td>\n",
              "      <td>Bai</td>\n",
              "      <td>6</td>\n",
              "    </tr>\n",
              "    <tr>\n",
              "      <th>25</th>\n",
              "      <td>hyperb1iss</td>\n",
              "      <td>Stefanie Jane</td>\n",
              "      <td>MASON</td>\n",
              "      <td>Seattle, WA</td>\n",
              "      <td>NaN</td>\n",
              "      <td>True</td>\n",
              "      <td>Light, Sound, and Android 🌠</td>\n",
              "      <td>27</td>\n",
              "      <td>2587</td>\n",
              "      <td>61</td>\n",
              "      <td>2009-07-06T14:26:47Z</td>\n",
              "      <td>Jane</td>\n",
              "      <td>5</td>\n",
              "    </tr>\n",
              "  </tbody>\n",
              "</table>\n",
              "</div>\n",
              "    <div class=\"colab-df-buttons\">\n",
              "\n",
              "  <div class=\"colab-df-container\">\n",
              "    <button class=\"colab-df-convert\" onclick=\"convertToInteractive('df-501a4819-08e9-4a22-bb1f-98c810d45601')\"\n",
              "            title=\"Convert this dataframe to an interactive table.\"\n",
              "            style=\"display:none;\">\n",
              "\n",
              "  <svg xmlns=\"http://www.w3.org/2000/svg\" height=\"24px\" viewBox=\"0 -960 960 960\">\n",
              "    <path d=\"M120-120v-720h720v720H120Zm60-500h600v-160H180v160Zm220 220h160v-160H400v160Zm0 220h160v-160H400v160ZM180-400h160v-160H180v160Zm440 0h160v-160H620v160ZM180-180h160v-160H180v160Zm440 0h160v-160H620v160Z\"/>\n",
              "  </svg>\n",
              "    </button>\n",
              "\n",
              "  <style>\n",
              "    .colab-df-container {\n",
              "      display:flex;\n",
              "      gap: 12px;\n",
              "    }\n",
              "\n",
              "    .colab-df-convert {\n",
              "      background-color: #E8F0FE;\n",
              "      border: none;\n",
              "      border-radius: 50%;\n",
              "      cursor: pointer;\n",
              "      display: none;\n",
              "      fill: #1967D2;\n",
              "      height: 32px;\n",
              "      padding: 0 0 0 0;\n",
              "      width: 32px;\n",
              "    }\n",
              "\n",
              "    .colab-df-convert:hover {\n",
              "      background-color: #E2EBFA;\n",
              "      box-shadow: 0px 1px 2px rgba(60, 64, 67, 0.3), 0px 1px 3px 1px rgba(60, 64, 67, 0.15);\n",
              "      fill: #174EA6;\n",
              "    }\n",
              "\n",
              "    .colab-df-buttons div {\n",
              "      margin-bottom: 4px;\n",
              "    }\n",
              "\n",
              "    [theme=dark] .colab-df-convert {\n",
              "      background-color: #3B4455;\n",
              "      fill: #D2E3FC;\n",
              "    }\n",
              "\n",
              "    [theme=dark] .colab-df-convert:hover {\n",
              "      background-color: #434B5C;\n",
              "      box-shadow: 0px 1px 3px 1px rgba(0, 0, 0, 0.15);\n",
              "      filter: drop-shadow(0px 1px 2px rgba(0, 0, 0, 0.3));\n",
              "      fill: #FFFFFF;\n",
              "    }\n",
              "  </style>\n",
              "\n",
              "    <script>\n",
              "      const buttonEl =\n",
              "        document.querySelector('#df-501a4819-08e9-4a22-bb1f-98c810d45601 button.colab-df-convert');\n",
              "      buttonEl.style.display =\n",
              "        google.colab.kernel.accessAllowed ? 'block' : 'none';\n",
              "\n",
              "      async function convertToInteractive(key) {\n",
              "        const element = document.querySelector('#df-501a4819-08e9-4a22-bb1f-98c810d45601');\n",
              "        const dataTable =\n",
              "          await google.colab.kernel.invokeFunction('convertToInteractive',\n",
              "                                                    [key], {});\n",
              "        if (!dataTable) return;\n",
              "\n",
              "        const docLinkHtml = 'Like what you see? Visit the ' +\n",
              "          '<a target=\"_blank\" href=https://colab.research.google.com/notebooks/data_table.ipynb>data table notebook</a>'\n",
              "          + ' to learn more about interactive tables.';\n",
              "        element.innerHTML = '';\n",
              "        dataTable['output_type'] = 'display_data';\n",
              "        await google.colab.output.renderOutput(dataTable, element);\n",
              "        const docLink = document.createElement('div');\n",
              "        docLink.innerHTML = docLinkHtml;\n",
              "        element.appendChild(docLink);\n",
              "      }\n",
              "    </script>\n",
              "  </div>\n",
              "\n",
              "\n",
              "<div id=\"df-0dc2689f-80a2-45cd-a8ad-49bfc363669c\">\n",
              "  <button class=\"colab-df-quickchart\" onclick=\"quickchart('df-0dc2689f-80a2-45cd-a8ad-49bfc363669c')\"\n",
              "            title=\"Suggest charts\"\n",
              "            style=\"display:none;\">\n",
              "\n",
              "<svg xmlns=\"http://www.w3.org/2000/svg\" height=\"24px\"viewBox=\"0 0 24 24\"\n",
              "     width=\"24px\">\n",
              "    <g>\n",
              "        <path d=\"M19 3H5c-1.1 0-2 .9-2 2v14c0 1.1.9 2 2 2h14c1.1 0 2-.9 2-2V5c0-1.1-.9-2-2-2zM9 17H7v-7h2v7zm4 0h-2V7h2v10zm4 0h-2v-4h2v4z\"/>\n",
              "    </g>\n",
              "</svg>\n",
              "  </button>\n",
              "\n",
              "<style>\n",
              "  .colab-df-quickchart {\n",
              "      --bg-color: #E8F0FE;\n",
              "      --fill-color: #1967D2;\n",
              "      --hover-bg-color: #E2EBFA;\n",
              "      --hover-fill-color: #174EA6;\n",
              "      --disabled-fill-color: #AAA;\n",
              "      --disabled-bg-color: #DDD;\n",
              "  }\n",
              "\n",
              "  [theme=dark] .colab-df-quickchart {\n",
              "      --bg-color: #3B4455;\n",
              "      --fill-color: #D2E3FC;\n",
              "      --hover-bg-color: #434B5C;\n",
              "      --hover-fill-color: #FFFFFF;\n",
              "      --disabled-bg-color: #3B4455;\n",
              "      --disabled-fill-color: #666;\n",
              "  }\n",
              "\n",
              "  .colab-df-quickchart {\n",
              "    background-color: var(--bg-color);\n",
              "    border: none;\n",
              "    border-radius: 50%;\n",
              "    cursor: pointer;\n",
              "    display: none;\n",
              "    fill: var(--fill-color);\n",
              "    height: 32px;\n",
              "    padding: 0;\n",
              "    width: 32px;\n",
              "  }\n",
              "\n",
              "  .colab-df-quickchart:hover {\n",
              "    background-color: var(--hover-bg-color);\n",
              "    box-shadow: 0 1px 2px rgba(60, 64, 67, 0.3), 0 1px 3px 1px rgba(60, 64, 67, 0.15);\n",
              "    fill: var(--button-hover-fill-color);\n",
              "  }\n",
              "\n",
              "  .colab-df-quickchart-complete:disabled,\n",
              "  .colab-df-quickchart-complete:disabled:hover {\n",
              "    background-color: var(--disabled-bg-color);\n",
              "    fill: var(--disabled-fill-color);\n",
              "    box-shadow: none;\n",
              "  }\n",
              "\n",
              "  .colab-df-spinner {\n",
              "    border: 2px solid var(--fill-color);\n",
              "    border-color: transparent;\n",
              "    border-bottom-color: var(--fill-color);\n",
              "    animation:\n",
              "      spin 1s steps(1) infinite;\n",
              "  }\n",
              "\n",
              "  @keyframes spin {\n",
              "    0% {\n",
              "      border-color: transparent;\n",
              "      border-bottom-color: var(--fill-color);\n",
              "      border-left-color: var(--fill-color);\n",
              "    }\n",
              "    20% {\n",
              "      border-color: transparent;\n",
              "      border-left-color: var(--fill-color);\n",
              "      border-top-color: var(--fill-color);\n",
              "    }\n",
              "    30% {\n",
              "      border-color: transparent;\n",
              "      border-left-color: var(--fill-color);\n",
              "      border-top-color: var(--fill-color);\n",
              "      border-right-color: var(--fill-color);\n",
              "    }\n",
              "    40% {\n",
              "      border-color: transparent;\n",
              "      border-right-color: var(--fill-color);\n",
              "      border-top-color: var(--fill-color);\n",
              "    }\n",
              "    60% {\n",
              "      border-color: transparent;\n",
              "      border-right-color: var(--fill-color);\n",
              "    }\n",
              "    80% {\n",
              "      border-color: transparent;\n",
              "      border-right-color: var(--fill-color);\n",
              "      border-bottom-color: var(--fill-color);\n",
              "    }\n",
              "    90% {\n",
              "      border-color: transparent;\n",
              "      border-bottom-color: var(--fill-color);\n",
              "    }\n",
              "  }\n",
              "</style>\n",
              "\n",
              "  <script>\n",
              "    async function quickchart(key) {\n",
              "      const quickchartButtonEl =\n",
              "        document.querySelector('#' + key + ' button');\n",
              "      quickchartButtonEl.disabled = true;  // To prevent multiple clicks.\n",
              "      quickchartButtonEl.classList.add('colab-df-spinner');\n",
              "      try {\n",
              "        const charts = await google.colab.kernel.invokeFunction(\n",
              "            'suggestCharts', [key], {});\n",
              "      } catch (error) {\n",
              "        console.error('Error during call to suggestCharts:', error);\n",
              "      }\n",
              "      quickchartButtonEl.classList.remove('colab-df-spinner');\n",
              "      quickchartButtonEl.classList.add('colab-df-quickchart-complete');\n",
              "    }\n",
              "    (() => {\n",
              "      let quickchartButtonEl =\n",
              "        document.querySelector('#df-0dc2689f-80a2-45cd-a8ad-49bfc363669c button');\n",
              "      quickchartButtonEl.style.display =\n",
              "        google.colab.kernel.accessAllowed ? 'block' : 'none';\n",
              "    })();\n",
              "  </script>\n",
              "</div>\n",
              "\n",
              "    </div>\n",
              "  </div>\n"
            ],
            "application/vnd.google.colaboratory.intrinsic+json": {
              "type": "dataframe",
              "variable_name": "avg_following_hireable",
              "repr_error": "0"
            }
          },
          "metadata": {},
          "execution_count": 70
        }
      ]
    },
    {
      "cell_type": "code",
      "source": [
        "# Getting the most common surnames and their count\n",
        "\n",
        "df1 = df1.dropna(subset=['name'])\n",
        "df1['surname'] = df1['name'].str.strip().str.split().str[-1]\n",
        "surname_counts = df1['surname'].value_counts()\n",
        "\n",
        "max_count = surname_counts.max()\n",
        "most_common_surnames = surname_counts[surname_counts == max_count].index.tolist()\n",
        "\n",
        "print(f\"Most common surname(s): {', '.join(sorted(most_common_surnames))}\")\n",
        "print(f\"Number of users with the most common surname: {max_count}\")"
      ],
      "metadata": {
        "colab": {
          "base_uri": "https://localhost:8080/"
        },
        "id": "VRkqmdCBCKSf",
        "outputId": "5f80b594-7363-4ae8-b9ec-0efac483b0dc"
      },
      "execution_count": null,
      "outputs": [
        {
          "output_type": "stream",
          "name": "stdout",
          "text": [
            "Most common surname(s): Wang\n",
            "Number of users with the most common surname: 6\n"
          ]
        }
      ]
    },
    {
      "cell_type": "code",
      "source": [
        "# Filter for repos at  weekends (Saturday = 5, Sunday = 6)\n",
        "\n",
        "df['created_at'] = pd.to_datetime(df['created_at'], utc=True)\n",
        "df['day_of_week'] = df['created_at'].dt.dayofweek\n",
        "weekends = df[df['day_of_week'].isin([5, 6])]\n",
        "\n",
        "# Count repositories per user created on weekends\n",
        "weekend_repo_counts = weekends.groupby('login').size().sort_values(ascending=False).head(5)\n",
        "top_5_users = weekend_repo_counts.index.tolist()\n",
        "\n",
        "print(f\"Top 5 users by repositories created on weekends (UTC): {', '.join(top_5_users)}\")"
      ],
      "metadata": {
        "colab": {
          "base_uri": "https://localhost:8080/"
        },
        "id": "iACJOjSwCZ4n",
        "outputId": "4ba91a86-aa45-4919-da39-0e6caa64c769"
      },
      "execution_count": null,
      "outputs": [
        {
          "output_type": "stream",
          "name": "stdout",
          "text": [
            "Top 5 users by repositories created on weekends (UTC): svermeulen, homebysix, ryanoasis, eugeneyan, anvaka\n"
          ]
        }
      ]
    },
    {
      "cell_type": "code",
      "source": [
        "weekend_repo_counts"
      ],
      "metadata": {
        "colab": {
          "base_uri": "https://localhost:8080/",
          "height": 272
        },
        "id": "Y9eGOGLmDNc8",
        "outputId": "251d02f8-441f-41c1-d92f-3a3632b3aa3b"
      },
      "execution_count": null,
      "outputs": [
        {
          "output_type": "execute_result",
          "data": {
            "text/plain": [
              "login\n",
              "svermeulen    47\n",
              "homebysix     46\n",
              "ryanoasis     42\n",
              "eugeneyan     39\n",
              "anvaka        39\n",
              "dtype: int64"
            ],
            "text/html": [
              "<div>\n",
              "<style scoped>\n",
              "    .dataframe tbody tr th:only-of-type {\n",
              "        vertical-align: middle;\n",
              "    }\n",
              "\n",
              "    .dataframe tbody tr th {\n",
              "        vertical-align: top;\n",
              "    }\n",
              "\n",
              "    .dataframe thead th {\n",
              "        text-align: right;\n",
              "    }\n",
              "</style>\n",
              "<table border=\"1\" class=\"dataframe\">\n",
              "  <thead>\n",
              "    <tr style=\"text-align: right;\">\n",
              "      <th></th>\n",
              "      <th>0</th>\n",
              "    </tr>\n",
              "    <tr>\n",
              "      <th>login</th>\n",
              "      <th></th>\n",
              "    </tr>\n",
              "  </thead>\n",
              "  <tbody>\n",
              "    <tr>\n",
              "      <th>svermeulen</th>\n",
              "      <td>47</td>\n",
              "    </tr>\n",
              "    <tr>\n",
              "      <th>homebysix</th>\n",
              "      <td>46</td>\n",
              "    </tr>\n",
              "    <tr>\n",
              "      <th>ryanoasis</th>\n",
              "      <td>42</td>\n",
              "    </tr>\n",
              "    <tr>\n",
              "      <th>eugeneyan</th>\n",
              "      <td>39</td>\n",
              "    </tr>\n",
              "    <tr>\n",
              "      <th>anvaka</th>\n",
              "      <td>39</td>\n",
              "    </tr>\n",
              "  </tbody>\n",
              "</table>\n",
              "</div><br><label><b>dtype:</b> int64</label>"
            ]
          },
          "metadata": {},
          "execution_count": 53
        }
      ]
    },
    {
      "cell_type": "code",
      "source": [
        "import unicodedata\n",
        "import scipy.stats as stats\n",
        "\n",
        "df1 = df1.dropna(subset=['bio'])\n",
        "\n",
        "# Calculate word count for each bio using .loc with Unicode handling\n",
        "df1.loc[:, 'bio_word_count'] = df1['bio'].apply(lambda x: len(unicodedata.normalize('NFC', x).split()))\n",
        "\n",
        "slope, intercept, r_value, p_value, std_err = stats.linregress( df1['followers'],df1['bio_word_count'])\n",
        "\n",
        "print(f\"Regression slope: {slope:.5f}\")"
      ],
      "metadata": {
        "colab": {
          "base_uri": "https://localhost:8080/"
        },
        "id": "1UWatJ3FDlYP",
        "outputId": "b7597bef-05de-456f-edc7-39d9ec98772f"
      },
      "execution_count": null,
      "outputs": [
        {
          "output_type": "stream",
          "name": "stdout",
          "text": [
            "Regression slope: -0.00007\n"
          ]
        }
      ]
    },
    {
      "cell_type": "code",
      "source": [
        "# Fraction of users with email for hireable=true\n",
        "fraction_hireable_with_email = df1[df1['hireable'] == True]['email'].notna().mean()\n",
        "\n",
        "# Fraction of users with email for hireable=false or missing\n",
        "fraction_non_hireable_with_email = df1[df1['hireable'] != True]['email'].notna().mean()\n",
        "\n",
        "# Calculate the difference\n",
        "fraction_difference = fraction_hireable_with_email - fraction_non_hireable_with_email\n",
        "\n",
        "print(f\"Difference in fractions: {fraction_difference:.4f}\")"
      ],
      "metadata": {
        "colab": {
          "base_uri": "https://localhost:8080/"
        },
        "id": "gthxl2ivE9L-",
        "outputId": "e94b4e21-cdea-4064-d0c1-da398f9ec90a"
      },
      "execution_count": null,
      "outputs": [
        {
          "output_type": "stream",
          "name": "stdout",
          "text": [
            "Difference in fractions: 0.0894\n"
          ]
        }
      ]
    }
  ]
}